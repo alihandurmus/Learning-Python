{
 "cells": [
  {
   "cell_type": "code",
   "execution_count": 1,
   "id": "9a9e0f68",
   "metadata": {},
   "outputs": [],
   "source": [
    "my_dictionary = {\"key\":\"value\"}"
   ]
  },
  {
   "cell_type": "code",
   "execution_count": 2,
   "id": "ba86cdf3",
   "metadata": {},
   "outputs": [
    {
     "data": {
      "text/plain": [
       "'value'"
      ]
     },
     "execution_count": 2,
     "metadata": {},
     "output_type": "execute_result"
    }
   ],
   "source": [
    "my_dictionary[\"key\"]"
   ]
  },
  {
   "cell_type": "code",
   "execution_count": 3,
   "id": "8f8e11f7",
   "metadata": {},
   "outputs": [],
   "source": [
    "my_list = [100,200]"
   ]
  },
  {
   "cell_type": "code",
   "execution_count": 4,
   "id": "560a68ca",
   "metadata": {},
   "outputs": [],
   "source": [
    "my_list2 = [\"run\",\"swim\"]"
   ]
  },
  {
   "cell_type": "code",
   "execution_count": 5,
   "id": "dc8b3363",
   "metadata": {},
   "outputs": [],
   "source": [
    "my_dictionary = {\"run\":100,\"swim\":200}"
   ]
  },
  {
   "cell_type": "code",
   "execution_count": 6,
   "id": "e8894297",
   "metadata": {},
   "outputs": [
    {
     "data": {
      "text/plain": [
       "100"
      ]
     },
     "execution_count": 6,
     "metadata": {},
     "output_type": "execute_result"
    }
   ],
   "source": [
    "my_dictionary[\"run\"]"
   ]
  },
  {
   "cell_type": "code",
   "execution_count": 7,
   "id": "d11f4da4",
   "metadata": {},
   "outputs": [
    {
     "data": {
      "text/plain": [
       "200"
      ]
     },
     "execution_count": 7,
     "metadata": {},
     "output_type": "execute_result"
    }
   ],
   "source": [
    "my_dictionary[\"swim\"]"
   ]
  },
  {
   "cell_type": "code",
   "execution_count": 8,
   "id": "a4a588cd",
   "metadata": {},
   "outputs": [],
   "source": [
    "my_dictionar2 = {\"key1\":10 , 20 : 30}"
   ]
  },
  {
   "cell_type": "code",
   "execution_count": 9,
   "id": "5fe5c019",
   "metadata": {},
   "outputs": [
    {
     "data": {
      "text/plain": [
       "30"
      ]
     },
     "execution_count": 9,
     "metadata": {},
     "output_type": "execute_result"
    }
   ],
   "source": [
    "my_dictionar2[20]"
   ]
  },
  {
   "cell_type": "code",
   "execution_count": 10,
   "id": "936a15e9",
   "metadata": {},
   "outputs": [],
   "source": [
    "my_dictionary_3 = {\"key1\":100,\"key2\":[1,2,3],\"key3\":{\"key\":'a'}}"
   ]
  },
  {
   "cell_type": "code",
   "execution_count": 11,
   "id": "8ab8d918",
   "metadata": {},
   "outputs": [
    {
     "data": {
      "text/plain": [
       "<function dict.keys>"
      ]
     },
     "execution_count": 11,
     "metadata": {},
     "output_type": "execute_result"
    }
   ],
   "source": [
    "my_dictionary_3.keys"
   ]
  },
  {
   "cell_type": "code",
   "execution_count": 12,
   "id": "b0d3dc2e",
   "metadata": {},
   "outputs": [
    {
     "data": {
      "text/plain": [
       "dict_keys(['key1', 'key2', 'key3'])"
      ]
     },
     "execution_count": 12,
     "metadata": {},
     "output_type": "execute_result"
    }
   ],
   "source": [
    "my_dictionary_3.keys()"
   ]
  },
  {
   "cell_type": "code",
   "execution_count": 14,
   "id": "d6fab816",
   "metadata": {},
   "outputs": [
    {
     "data": {
      "text/plain": [
       "'a'"
      ]
     },
     "execution_count": 14,
     "metadata": {},
     "output_type": "execute_result"
    }
   ],
   "source": [
    "my_dictionary_3[\"key3\"][\"key\"]"
   ]
  },
  {
   "cell_type": "code",
   "execution_count": 15,
   "id": "da3aa8ec",
   "metadata": {},
   "outputs": [
    {
     "data": {
      "text/plain": [
       "dict_values([100, [1, 2, 3], {'key': 'a'}])"
      ]
     },
     "execution_count": 15,
     "metadata": {},
     "output_type": "execute_result"
    }
   ],
   "source": [
    "my_dictionary_3.values()"
   ]
  },
  {
   "cell_type": "code",
   "execution_count": 16,
   "id": "c5c3ebfd",
   "metadata": {},
   "outputs": [],
   "source": [
    "my_dictionary_3[\"key1\"] = 200"
   ]
  },
  {
   "cell_type": "code",
   "execution_count": 17,
   "id": "84e08da2",
   "metadata": {},
   "outputs": [
    {
     "data": {
      "text/plain": [
       "200"
      ]
     },
     "execution_count": 17,
     "metadata": {},
     "output_type": "execute_result"
    }
   ],
   "source": [
    "my_dictionary_3[\"key1\"]"
   ]
  },
  {
   "cell_type": "code",
   "execution_count": 18,
   "id": "0315bbdd",
   "metadata": {},
   "outputs": [],
   "source": [
    "my_dictionary_3[\"key4\"] = 300"
   ]
  },
  {
   "cell_type": "code",
   "execution_count": 19,
   "id": "e8a75f2b",
   "metadata": {},
   "outputs": [
    {
     "data": {
      "text/plain": [
       "{'key1': 200, 'key2': [1, 2, 3], 'key3': {'key': 'a'}, 'key4': 300}"
      ]
     },
     "execution_count": 19,
     "metadata": {},
     "output_type": "execute_result"
    }
   ],
   "source": [
    "my_dictionary_3"
   ]
  },
  {
   "cell_type": "code",
   "execution_count": null,
   "id": "0f93fa6a",
   "metadata": {},
   "outputs": [],
   "source": []
  }
 ],
 "metadata": {
  "kernelspec": {
   "display_name": "Python 3 (ipykernel)",
   "language": "python",
   "name": "python3"
  },
  "language_info": {
   "codemirror_mode": {
    "name": "ipython",
    "version": 3
   },
   "file_extension": ".py",
   "mimetype": "text/x-python",
   "name": "python",
   "nbconvert_exporter": "python",
   "pygments_lexer": "ipython3",
   "version": "3.9.13"
  }
 },
 "nbformat": 4,
 "nbformat_minor": 5
}
