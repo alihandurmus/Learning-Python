{
 "cells": [
  {
   "cell_type": "code",
   "execution_count": 1,
   "id": "7d61b0d0",
   "metadata": {},
   "outputs": [],
   "source": [
    "my_number = [1,2,3,4,5]"
   ]
  },
  {
   "cell_type": "code",
   "execution_count": 2,
   "id": "1ef5e26f",
   "metadata": {},
   "outputs": [
    {
     "name": "stdout",
     "output_type": "stream",
     "text": [
      "Alihan\n",
      "Alihan\n",
      "Alihan\n",
      "Alihan\n",
      "Alihan\n"
     ]
    }
   ],
   "source": [
    "for number in my_number:\n",
    "    print(\"Alihan\")"
   ]
  },
  {
   "cell_type": "code",
   "execution_count": 3,
   "id": "48053467",
   "metadata": {},
   "outputs": [
    {
     "name": "stdout",
     "output_type": "stream",
     "text": [
      "1\n",
      "2\n",
      "3\n",
      "4\n",
      "5\n"
     ]
    }
   ],
   "source": [
    "for number in my_number:\n",
    "    print(number)"
   ]
  },
  {
   "cell_type": "code",
   "execution_count": 4,
   "id": "c8237b32",
   "metadata": {},
   "outputs": [
    {
     "name": "stdout",
     "output_type": "stream",
     "text": [
      "2\n",
      "4\n"
     ]
    }
   ],
   "source": [
    "for number in my_number:\n",
    "    if number%2 == 0:\n",
    "        print(number)"
   ]
  },
  {
   "cell_type": "code",
   "execution_count": 5,
   "id": "2142b62f",
   "metadata": {},
   "outputs": [],
   "source": [
    "my_string = \"Alihan Durmuş\""
   ]
  },
  {
   "cell_type": "code",
   "execution_count": 6,
   "id": "0e97d0e8",
   "metadata": {},
   "outputs": [
    {
     "name": "stdout",
     "output_type": "stream",
     "text": [
      "A\n",
      "l\n",
      "i\n",
      "h\n",
      "a\n",
      "n\n",
      " \n",
      "D\n",
      "u\n",
      "r\n",
      "m\n",
      "u\n",
      "ş\n"
     ]
    }
   ],
   "source": [
    "for letter in my_string:\n",
    "    print(letter)"
   ]
  },
  {
   "cell_type": "code",
   "execution_count": 7,
   "id": "ab961d92",
   "metadata": {},
   "outputs": [],
   "source": [
    "my_new_list = [(\"a\",\"b\"),(\"c\",\"d\"),(\"e\",\"f\"),(\"g\",\"h\")]"
   ]
  },
  {
   "cell_type": "code",
   "execution_count": 8,
   "id": "e312277f",
   "metadata": {},
   "outputs": [
    {
     "name": "stdout",
     "output_type": "stream",
     "text": [
      "('a', 'b')\n",
      "('c', 'd')\n",
      "('e', 'f')\n",
      "('g', 'h')\n"
     ]
    }
   ],
   "source": [
    "for element in my_new_list:\n",
    "    print(element)"
   ]
  },
  {
   "cell_type": "code",
   "execution_count": 9,
   "id": "4acb6f9c",
   "metadata": {},
   "outputs": [
    {
     "name": "stdout",
     "output_type": "stream",
     "text": [
      "a b\n",
      "c d\n",
      "e f\n",
      "g h\n"
     ]
    }
   ],
   "source": [
    "for (x,y) in my_new_list:\n",
    "    print(x,y)"
   ]
  },
  {
   "cell_type": "code",
   "execution_count": 10,
   "id": "a6ab3184",
   "metadata": {},
   "outputs": [],
   "source": [
    "my_dictionary = {\"key1\":100,\"key2\":200,\"key3\":300}"
   ]
  },
  {
   "cell_type": "code",
   "execution_count": 11,
   "id": "99f2e049",
   "metadata": {},
   "outputs": [
    {
     "name": "stdout",
     "output_type": "stream",
     "text": [
      "key1\n",
      "key2\n",
      "key3\n"
     ]
    }
   ],
   "source": [
    "for (key,value) in my_dictionary.items():\n",
    "    print(key)"
   ]
  },
  {
   "cell_type": "code",
   "execution_count": 12,
   "id": "e1d9d9c5",
   "metadata": {},
   "outputs": [
    {
     "name": "stdout",
     "output_type": "stream",
     "text": [
      "key1 100\n",
      "key2 200\n",
      "key3 300\n"
     ]
    }
   ],
   "source": [
    "for (key,value) in my_dictionary.items():\n",
    "    print(key,value)"
   ]
  },
  {
   "cell_type": "code",
   "execution_count": 14,
   "id": "9af1a05d",
   "metadata": {},
   "outputs": [],
   "source": [
    "for item in my_number:\n",
    "    pass"
   ]
  },
  {
   "cell_type": "markdown",
   "id": "11076546",
   "metadata": {},
   "source": [
    "##pass ile hataları geçebilirsin hiçbişey yapma demek"
   ]
  },
  {
   "cell_type": "code",
   "execution_count": 15,
   "id": "bddceaad",
   "metadata": {},
   "outputs": [],
   "source": [
    "p = 0"
   ]
  },
  {
   "cell_type": "code",
   "execution_count": 16,
   "id": "717d1385",
   "metadata": {},
   "outputs": [
    {
     "name": "stdout",
     "output_type": "stream",
     "text": [
      "value p: 0\n",
      "value p: 1\n",
      "value p: 2\n",
      "value p: 3\n",
      "value p: 4\n",
      "value p: 5\n",
      "value p: 6\n",
      "value p: 7\n",
      "value p: 8\n",
      "value p: 9\n",
      "value p: 10\n",
      "value p: 11\n",
      "value p: 12\n",
      "value p: 13\n",
      "value p: 14\n",
      "value p: 15\n",
      "value p: 16\n",
      "value p: 17\n",
      "value p: 18\n",
      "value p: 19\n"
     ]
    }
   ],
   "source": [
    "while p < 20 :\n",
    "    #print(\"value p:\"+str(p))\n",
    "    print(f\"value p: {p}\")\n",
    "    p += 1;"
   ]
  },
  {
   "cell_type": "code",
   "execution_count": null,
   "id": "0b2a65ec",
   "metadata": {},
   "outputs": [],
   "source": []
  }
 ],
 "metadata": {
  "kernelspec": {
   "display_name": "Python 3 (ipykernel)",
   "language": "python",
   "name": "python3"
  },
  "language_info": {
   "codemirror_mode": {
    "name": "ipython",
    "version": 3
   },
   "file_extension": ".py",
   "mimetype": "text/x-python",
   "name": "python",
   "nbconvert_exporter": "python",
   "pygments_lexer": "ipython3",
   "version": "3.9.13"
  }
 },
 "nbformat": 4,
 "nbformat_minor": 5
}
