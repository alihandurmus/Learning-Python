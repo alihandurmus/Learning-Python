{
 "cells": [
  {
   "cell_type": "markdown",
   "id": "0829c3bc",
   "metadata": {},
   "source": [
    "##stringler değişemez "
   ]
  },
  {
   "cell_type": "code",
   "execution_count": 1,
   "id": "266d02ff",
   "metadata": {},
   "outputs": [],
   "source": [
    "my_name = \"Alihan\""
   ]
  },
  {
   "cell_type": "code",
   "execution_count": 2,
   "id": "b5faaec0",
   "metadata": {},
   "outputs": [
    {
     "data": {
      "text/plain": [
       "'A'"
      ]
     },
     "execution_count": 2,
     "metadata": {},
     "output_type": "execute_result"
    }
   ],
   "source": [
    "my_name[0]"
   ]
  },
  {
   "cell_type": "code",
   "execution_count": 3,
   "id": "0e80523f",
   "metadata": {},
   "outputs": [
    {
     "data": {
      "text/plain": [
       "'l'"
      ]
     },
     "execution_count": 3,
     "metadata": {},
     "output_type": "execute_result"
    }
   ],
   "source": [
    "my_name[1]"
   ]
  },
  {
   "cell_type": "code",
   "execution_count": 4,
   "id": "59e99194",
   "metadata": {},
   "outputs": [
    {
     "ename": "TypeError",
     "evalue": "'str' object does not support item assignment",
     "output_type": "error",
     "traceback": [
      "\u001b[1;31m---------------------------------------------------------------------------\u001b[0m",
      "\u001b[1;31mTypeError\u001b[0m                                 Traceback (most recent call last)",
      "\u001b[1;32m~\\AppData\\Local\\Temp\\ipykernel_2220\\4078070831.py\u001b[0m in \u001b[0;36m<module>\u001b[1;34m\u001b[0m\n\u001b[1;32m----> 1\u001b[1;33m \u001b[0mmy_name\u001b[0m\u001b[1;33m[\u001b[0m\u001b[1;36m0\u001b[0m\u001b[1;33m]\u001b[0m \u001b[1;33m=\u001b[0m \u001b[1;34m\"B\"\u001b[0m\u001b[1;33m\u001b[0m\u001b[1;33m\u001b[0m\u001b[0m\n\u001b[0m",
      "\u001b[1;31mTypeError\u001b[0m: 'str' object does not support item assignment"
     ]
    }
   ],
   "source": [
    "##my_name[0] = \"B\""
   ]
  },
  {
   "cell_type": "markdown",
   "id": "c93d74af",
   "metadata": {},
   "source": [
    "görüldüğü üzere error verdi değişemez"
   ]
  },
  {
   "cell_type": "markdown",
   "id": "f5f7832d",
   "metadata": {},
   "source": [
    "##bunun için listeler kullanılır"
   ]
  },
  {
   "cell_type": "code",
   "execution_count": 5,
   "id": "fcbb8e14",
   "metadata": {},
   "outputs": [],
   "source": [
    "my_list = [1,2,3]"
   ]
  },
  {
   "cell_type": "code",
   "execution_count": 6,
   "id": "c5c4589e",
   "metadata": {},
   "outputs": [
    {
     "data": {
      "text/plain": [
       "[1, 2, 3]"
      ]
     },
     "execution_count": 6,
     "metadata": {},
     "output_type": "execute_result"
    }
   ],
   "source": [
    "my_list"
   ]
  },
  {
   "cell_type": "code",
   "execution_count": 7,
   "id": "08647ae1",
   "metadata": {},
   "outputs": [],
   "source": [
    "my_list[0] = 5"
   ]
  },
  {
   "cell_type": "code",
   "execution_count": 8,
   "id": "0bf55a66",
   "metadata": {},
   "outputs": [
    {
     "data": {
      "text/plain": [
       "[5, 2, 3]"
      ]
     },
     "execution_count": 8,
     "metadata": {},
     "output_type": "execute_result"
    }
   ],
   "source": [
    "my_list"
   ]
  },
  {
   "cell_type": "code",
   "execution_count": 9,
   "id": "edc9da55",
   "metadata": {},
   "outputs": [],
   "source": [
    "my_list.append(7)"
   ]
  },
  {
   "cell_type": "code",
   "execution_count": 10,
   "id": "3cbba3a6",
   "metadata": {},
   "outputs": [
    {
     "data": {
      "text/plain": [
       "[5, 2, 3, 7]"
      ]
     },
     "execution_count": 10,
     "metadata": {},
     "output_type": "execute_result"
    }
   ],
   "source": [
    "my_list"
   ]
  },
  {
   "cell_type": "code",
   "execution_count": 11,
   "id": "8efc08d9",
   "metadata": {},
   "outputs": [
    {
     "data": {
      "text/plain": [
       "<function list.pop(index=-1, /)>"
      ]
     },
     "execution_count": 11,
     "metadata": {},
     "output_type": "execute_result"
    }
   ],
   "source": [
    "my_list.pop"
   ]
  },
  {
   "cell_type": "code",
   "execution_count": 12,
   "id": "e752993e",
   "metadata": {},
   "outputs": [
    {
     "data": {
      "text/plain": [
       "7"
      ]
     },
     "execution_count": 12,
     "metadata": {},
     "output_type": "execute_result"
    }
   ],
   "source": [
    "my_list.pop()"
   ]
  },
  {
   "cell_type": "code",
   "execution_count": 13,
   "id": "86a0e868",
   "metadata": {},
   "outputs": [
    {
     "data": {
      "text/plain": [
       "[5, 2, 3]"
      ]
     },
     "execution_count": 13,
     "metadata": {},
     "output_type": "execute_result"
    }
   ],
   "source": [
    "my_list"
   ]
  },
  {
   "cell_type": "code",
   "execution_count": 14,
   "id": "5bb8586e",
   "metadata": {},
   "outputs": [
    {
     "ename": "NameError",
     "evalue": "name 'bhd' is not defined",
     "output_type": "error",
     "traceback": [
      "\u001b[1;31m---------------------------------------------------------------------------\u001b[0m",
      "\u001b[1;31mNameError\u001b[0m                                 Traceback (most recent call last)",
      "\u001b[1;32m~\\AppData\\Local\\Temp\\ipykernel_2220\\3823025479.py\u001b[0m in \u001b[0;36m<module>\u001b[1;34m\u001b[0m\n\u001b[1;32m----> 1\u001b[1;33m \u001b[0mmy_mixed_list\u001b[0m \u001b[1;33m=\u001b[0m \u001b[1;33m[\u001b[0m\u001b[1;36m1\u001b[0m\u001b[1;33m,\u001b[0m\u001b[1;36m2\u001b[0m\u001b[1;33m,\u001b[0m\u001b[0mbhd\u001b[0m\u001b[1;33m,\u001b[0m\u001b[1;36m2.78\u001b[0m\u001b[1;33m]\u001b[0m\u001b[1;33m\u001b[0m\u001b[1;33m\u001b[0m\u001b[0m\n\u001b[0m",
      "\u001b[1;31mNameError\u001b[0m: name 'bhd' is not defined"
     ]
    }
   ],
   "source": [
    "my_mixed_list = [1,2,bhd,2.78]"
   ]
  },
  {
   "cell_type": "code",
   "execution_count": 15,
   "id": "34116b30",
   "metadata": {},
   "outputs": [],
   "source": [
    "my_mixed_list = [1,2,\"bhd\",2.78]"
   ]
  },
  {
   "cell_type": "code",
   "execution_count": 16,
   "id": "28fc180b",
   "metadata": {},
   "outputs": [
    {
     "data": {
      "text/plain": [
       "1"
      ]
     },
     "execution_count": 16,
     "metadata": {},
     "output_type": "execute_result"
    }
   ],
   "source": [
    "my_mixed_list[0]"
   ]
  },
  {
   "cell_type": "code",
   "execution_count": 17,
   "id": "d041db17",
   "metadata": {},
   "outputs": [
    {
     "data": {
      "text/plain": [
       "2"
      ]
     },
     "execution_count": 17,
     "metadata": {},
     "output_type": "execute_result"
    }
   ],
   "source": [
    "my_mixed_list[1]"
   ]
  },
  {
   "cell_type": "code",
   "execution_count": 18,
   "id": "86e0dd9f",
   "metadata": {},
   "outputs": [
    {
     "data": {
      "text/plain": [
       "'bhd'"
      ]
     },
     "execution_count": 18,
     "metadata": {},
     "output_type": "execute_result"
    }
   ],
   "source": [
    "my_mixed_list[2]"
   ]
  },
  {
   "cell_type": "code",
   "execution_count": 19,
   "id": "ff684516",
   "metadata": {},
   "outputs": [],
   "source": [
    "my_list_1 = ['a','b','c']"
   ]
  },
  {
   "cell_type": "code",
   "execution_count": 20,
   "id": "8bc09a9f",
   "metadata": {},
   "outputs": [],
   "source": [
    "my_list_2 = ['d','e','f']"
   ]
  },
  {
   "cell_type": "code",
   "execution_count": 21,
   "id": "4e7c2278",
   "metadata": {},
   "outputs": [],
   "source": [
    "my_list_3 = my_list_1+my_list_2"
   ]
  },
  {
   "cell_type": "code",
   "execution_count": 22,
   "id": "46a05654",
   "metadata": {},
   "outputs": [
    {
     "data": {
      "text/plain": [
       "['a', 'b', 'c', 'd', 'e', 'f']"
      ]
     },
     "execution_count": 22,
     "metadata": {},
     "output_type": "execute_result"
    }
   ],
   "source": [
    "my_list_3"
   ]
  },
  {
   "cell_type": "code",
   "execution_count": 23,
   "id": "90f97b7e",
   "metadata": {},
   "outputs": [
    {
     "data": {
      "text/plain": [
       "['a', 'b', 'c', 'a', 'b', 'c', 'a', 'b', 'c']"
      ]
     },
     "execution_count": 23,
     "metadata": {},
     "output_type": "execute_result"
    }
   ],
   "source": [
    "my_list_1 * 3"
   ]
  },
  {
   "cell_type": "code",
   "execution_count": 24,
   "id": "03e207bc",
   "metadata": {},
   "outputs": [
    {
     "data": {
      "text/plain": [
       "<function list.reverse()>"
      ]
     },
     "execution_count": 24,
     "metadata": {},
     "output_type": "execute_result"
    }
   ],
   "source": [
    "my_list_1.reverse"
   ]
  },
  {
   "cell_type": "code",
   "execution_count": 25,
   "id": "85976956",
   "metadata": {},
   "outputs": [],
   "source": [
    "my_list_1.reverse()"
   ]
  },
  {
   "cell_type": "code",
   "execution_count": 26,
   "id": "fe6f28ed",
   "metadata": {},
   "outputs": [
    {
     "data": {
      "text/plain": [
       "['c', 'b', 'a']"
      ]
     },
     "execution_count": 26,
     "metadata": {},
     "output_type": "execute_result"
    }
   ],
   "source": [
    "my_list_1"
   ]
  },
  {
   "cell_type": "markdown",
   "id": "85b5c788",
   "metadata": {},
   "source": [
    "##nested list"
   ]
  },
  {
   "cell_type": "code",
   "execution_count": 27,
   "id": "2cab0fe8",
   "metadata": {},
   "outputs": [],
   "source": [
    "new_list = [1,2,\"a\",[3,'c']]"
   ]
  },
  {
   "cell_type": "code",
   "execution_count": 28,
   "id": "21625614",
   "metadata": {},
   "outputs": [
    {
     "data": {
      "text/plain": [
       "'a'"
      ]
     },
     "execution_count": 28,
     "metadata": {},
     "output_type": "execute_result"
    }
   ],
   "source": [
    "new_list[2]"
   ]
  },
  {
   "cell_type": "code",
   "execution_count": 29,
   "id": "56ddb438",
   "metadata": {},
   "outputs": [
    {
     "data": {
      "text/plain": [
       "[3, 'c']"
      ]
     },
     "execution_count": 29,
     "metadata": {},
     "output_type": "execute_result"
    }
   ],
   "source": [
    "new_list[3]"
   ]
  },
  {
   "cell_type": "code",
   "execution_count": 30,
   "id": "20e65677",
   "metadata": {},
   "outputs": [],
   "source": [
    "nested_list = new_list[3]"
   ]
  },
  {
   "cell_type": "code",
   "execution_count": 31,
   "id": "34f1d300",
   "metadata": {},
   "outputs": [
    {
     "data": {
      "text/plain": [
       "[3, 'c']"
      ]
     },
     "execution_count": 31,
     "metadata": {},
     "output_type": "execute_result"
    }
   ],
   "source": [
    "nested_list"
   ]
  },
  {
   "cell_type": "code",
   "execution_count": 32,
   "id": "39a436d6",
   "metadata": {},
   "outputs": [
    {
     "data": {
      "text/plain": [
       "'c'"
      ]
     },
     "execution_count": 32,
     "metadata": {},
     "output_type": "execute_result"
    }
   ],
   "source": [
    "nested_list[1]"
   ]
  },
  {
   "cell_type": "code",
   "execution_count": 33,
   "id": "ecb086c0",
   "metadata": {},
   "outputs": [
    {
     "data": {
      "text/plain": [
       "'c'"
      ]
     },
     "execution_count": 33,
     "metadata": {},
     "output_type": "execute_result"
    }
   ],
   "source": [
    "new_list[3][1]"
   ]
  },
  {
   "cell_type": "code",
   "execution_count": 34,
   "id": "cbcaf7d5",
   "metadata": {},
   "outputs": [
    {
     "data": {
      "text/plain": [
       "['a', [3, 'c']]"
      ]
     },
     "execution_count": 34,
     "metadata": {},
     "output_type": "execute_result"
    }
   ],
   "source": [
    "new_list[2:]"
   ]
  },
  {
   "cell_type": "code",
   "execution_count": 35,
   "id": "7ab607c1",
   "metadata": {},
   "outputs": [
    {
     "data": {
      "text/plain": [
       "[1, 2]"
      ]
     },
     "execution_count": 35,
     "metadata": {},
     "output_type": "execute_result"
    }
   ],
   "source": [
    "new_list[:2]"
   ]
  },
  {
   "cell_type": "code",
   "execution_count": null,
   "id": "d196221a",
   "metadata": {},
   "outputs": [],
   "source": []
  }
 ],
 "metadata": {
  "kernelspec": {
   "display_name": "Python 3 (ipykernel)",
   "language": "python",
   "name": "python3"
  },
  "language_info": {
   "codemirror_mode": {
    "name": "ipython",
    "version": 3
   },
   "file_extension": ".py",
   "mimetype": "text/x-python",
   "name": "python",
   "nbconvert_exporter": "python",
   "pygments_lexer": "ipython3",
   "version": "3.9.13"
  }
 },
 "nbformat": 4,
 "nbformat_minor": 5
}
