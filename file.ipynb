{
 "cells": [
  {
   "cell_type": "code",
   "execution_count": 1,
   "id": "7f7b2def",
   "metadata": {},
   "outputs": [
    {
     "name": "stdout",
     "output_type": "stream",
     "text": [
      "Writing myfile.txt\n"
     ]
    }
   ],
   "source": [
    "%%writefile myfile.txt\n",
    "Test1\n",
    "Test2\n",
    "Test3"
   ]
  },
  {
   "cell_type": "code",
   "execution_count": 2,
   "id": "54349ed9",
   "metadata": {},
   "outputs": [],
   "source": [
    "my_file = open(\"myfile.txt\")"
   ]
  },
  {
   "cell_type": "code",
   "execution_count": 3,
   "id": "5321368e",
   "metadata": {},
   "outputs": [
    {
     "data": {
      "text/plain": [
       "'Test1\\nTest2\\nTest3\\n'"
      ]
     },
     "execution_count": 3,
     "metadata": {},
     "output_type": "execute_result"
    }
   ],
   "source": [
    "my_file.read()"
   ]
  },
  {
   "cell_type": "code",
   "execution_count": 4,
   "id": "3a25a7ab",
   "metadata": {},
   "outputs": [
    {
     "data": {
      "text/plain": [
       "''"
      ]
     },
     "execution_count": 4,
     "metadata": {},
     "output_type": "execute_result"
    }
   ],
   "source": [
    "my_file.read()"
   ]
  },
  {
   "cell_type": "code",
   "execution_count": 5,
   "id": "9a404505",
   "metadata": {},
   "outputs": [
    {
     "data": {
      "text/plain": [
       "0"
      ]
     },
     "execution_count": 5,
     "metadata": {},
     "output_type": "execute_result"
    }
   ],
   "source": [
    "my_file.seek(0)"
   ]
  },
  {
   "cell_type": "code",
   "execution_count": 6,
   "id": "7ea2f168",
   "metadata": {},
   "outputs": [
    {
     "data": {
      "text/plain": [
       "'Test1\\nTest2\\nTest3\\n'"
      ]
     },
     "execution_count": 6,
     "metadata": {},
     "output_type": "execute_result"
    }
   ],
   "source": [
    "my_file.read()"
   ]
  },
  {
   "cell_type": "code",
   "execution_count": 7,
   "id": "69f83599",
   "metadata": {},
   "outputs": [],
   "source": [
    "my_file.close()"
   ]
  },
  {
   "cell_type": "code",
   "execution_count": 8,
   "id": "2d7e0335",
   "metadata": {},
   "outputs": [],
   "source": [
    "with open(\"myfile.txt\") as my_file:\n",
    "    file_read = my_file.read()"
   ]
  },
  {
   "cell_type": "code",
   "execution_count": 9,
   "id": "09c67c81",
   "metadata": {},
   "outputs": [
    {
     "data": {
      "text/plain": [
       "'Test1\\nTest2\\nTest3\\n'"
      ]
     },
     "execution_count": 9,
     "metadata": {},
     "output_type": "execute_result"
    }
   ],
   "source": [
    "file_read"
   ]
  },
  {
   "cell_type": "code",
   "execution_count": 10,
   "id": "8cf4290c",
   "metadata": {},
   "outputs": [
    {
     "data": {
      "text/plain": [
       "'Test1\\nTest2\\nTest3\\n'"
      ]
     },
     "execution_count": 10,
     "metadata": {},
     "output_type": "execute_result"
    }
   ],
   "source": [
    "file_read\n"
   ]
  },
  {
   "cell_type": "code",
   "execution_count": 17,
   "id": "c2abb020",
   "metadata": {},
   "outputs": [],
   "source": [
    "with open(\"myfile.txt\",mode=\"w\") as my_file:\n",
    "    my_file.write(\"test 4\")"
   ]
  },
  {
   "cell_type": "code",
   "execution_count": 18,
   "id": "ae3fd459",
   "metadata": {},
   "outputs": [],
   "source": [
    "with open(\"myfile.txt\") as my_file:\n",
    "    file_read = my_file.read()"
   ]
  },
  {
   "cell_type": "code",
   "execution_count": 19,
   "id": "3e1da11e",
   "metadata": {},
   "outputs": [
    {
     "data": {
      "text/plain": [
       "'test 4'"
      ]
     },
     "execution_count": 19,
     "metadata": {},
     "output_type": "execute_result"
    }
   ],
   "source": [
    "file_read"
   ]
  },
  {
   "cell_type": "code",
   "execution_count": 21,
   "id": "6db54885",
   "metadata": {},
   "outputs": [],
   "source": [
    "with open(\"myfile.txt\",mode=\"a\") as my_new_file:\n",
    "    my_new_file.write(\" test 5\")"
   ]
  },
  {
   "cell_type": "code",
   "execution_count": 22,
   "id": "03cc8434",
   "metadata": {},
   "outputs": [],
   "source": [
    "with open(\"myfile.txt\") as my_file:\n",
    "    file_read = my_file.read()"
   ]
  },
  {
   "cell_type": "code",
   "execution_count": 23,
   "id": "389ef5a1",
   "metadata": {},
   "outputs": [
    {
     "data": {
      "text/plain": [
       "'test 4 test 5'"
      ]
     },
     "execution_count": 23,
     "metadata": {},
     "output_type": "execute_result"
    }
   ],
   "source": [
    "file_read"
   ]
  },
  {
   "cell_type": "markdown",
   "id": "d5204ae6",
   "metadata": {},
   "source": [
    "## r = read, w=write, a=append"
   ]
  },
  {
   "cell_type": "code",
   "execution_count": null,
   "id": "6df49708",
   "metadata": {},
   "outputs": [],
   "source": []
  }
 ],
 "metadata": {
  "kernelspec": {
   "display_name": "Python 3 (ipykernel)",
   "language": "python",
   "name": "python3"
  },
  "language_info": {
   "codemirror_mode": {
    "name": "ipython",
    "version": 3
   },
   "file_extension": ".py",
   "mimetype": "text/x-python",
   "name": "python",
   "nbconvert_exporter": "python",
   "pygments_lexer": "ipython3",
   "version": "3.9.13"
  }
 },
 "nbformat": 4,
 "nbformat_minor": 5
}
