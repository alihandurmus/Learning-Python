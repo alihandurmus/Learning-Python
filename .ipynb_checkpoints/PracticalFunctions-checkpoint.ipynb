{
 "cells": [
  {
   "cell_type": "code",
   "execution_count": 1,
   "id": "5e39c68e",
   "metadata": {},
   "outputs": [],
   "source": [
    "def divide(number):\n",
    "    return number/2"
   ]
  },
  {
   "cell_type": "code",
   "execution_count": 2,
   "id": "6fd2cf42",
   "metadata": {},
   "outputs": [
    {
     "data": {
      "text/plain": [
       "5.0"
      ]
     },
     "execution_count": 2,
     "metadata": {},
     "output_type": "execute_result"
    }
   ],
   "source": [
    "divide(10)"
   ]
  },
  {
   "cell_type": "code",
   "execution_count": 3,
   "id": "e26fd0bf",
   "metadata": {},
   "outputs": [],
   "source": [
    "my_list = [0,1,2,3,4,5,6,7,8,9]"
   ]
  },
  {
   "cell_type": "code",
   "execution_count": 4,
   "id": "b326b584",
   "metadata": {},
   "outputs": [
    {
     "name": "stdout",
     "output_type": "stream",
     "text": [
      "0.0\n",
      "0.5\n",
      "1.0\n",
      "1.5\n",
      "2.0\n",
      "2.5\n",
      "3.0\n",
      "3.5\n",
      "4.0\n",
      "4.5\n"
     ]
    }
   ],
   "source": [
    "for num in my_list:\n",
    "    print(divide(num))"
   ]
  },
  {
   "cell_type": "markdown",
   "id": "7f928ec3",
   "metadata": {},
   "source": [
    "## map"
   ]
  },
  {
   "cell_type": "code",
   "execution_count": 6,
   "id": "9a5a2d6c",
   "metadata": {},
   "outputs": [
    {
     "data": {
      "text/plain": [
       "[0.0, 0.5, 1.0, 1.5, 2.0, 2.5, 3.0, 3.5, 4.0, 4.5]"
      ]
     },
     "execution_count": 6,
     "metadata": {},
     "output_type": "execute_result"
    }
   ],
   "source": [
    "list(map(divide,my_list))"
   ]
  },
  {
   "cell_type": "code",
   "execution_count": 7,
   "id": "23f8e80f",
   "metadata": {},
   "outputs": [],
   "source": [
    "def control_string(string):\n",
    "    return \"Metallica\" in string"
   ]
  },
  {
   "cell_type": "code",
   "execution_count": 9,
   "id": "4ae95b16",
   "metadata": {},
   "outputs": [
    {
     "data": {
      "text/plain": [
       "False"
      ]
     },
     "execution_count": 9,
     "metadata": {},
     "output_type": "execute_result"
    }
   ],
   "source": [
    "control_string(\"Metalli\")"
   ]
  },
  {
   "cell_type": "code",
   "execution_count": 14,
   "id": "3c228468",
   "metadata": {},
   "outputs": [],
   "source": [
    "my_artist_list = [\"Metallica\",\"Madonna\",\"Muslum\",\"Ceza\",\"Metallica2\"]"
   ]
  },
  {
   "cell_type": "code",
   "execution_count": 12,
   "id": "12c6a4ab",
   "metadata": {},
   "outputs": [
    {
     "data": {
      "text/plain": [
       "[True, False, False, False]"
      ]
     },
     "execution_count": 12,
     "metadata": {},
     "output_type": "execute_result"
    }
   ],
   "source": [
    "list(map(control_string,my_artist_list))"
   ]
  },
  {
   "cell_type": "markdown",
   "id": "afdd6536",
   "metadata": {},
   "source": [
    "## filter"
   ]
  },
  {
   "cell_type": "code",
   "execution_count": 15,
   "id": "23c1bd16",
   "metadata": {},
   "outputs": [
    {
     "data": {
      "text/plain": [
       "['Metallica', 'Metallica2']"
      ]
     },
     "execution_count": 15,
     "metadata": {},
     "output_type": "execute_result"
    }
   ],
   "source": [
    "list(filter(control_string,my_artist_list))"
   ]
  },
  {
   "cell_type": "markdown",
   "id": "d0f3ac8c",
   "metadata": {},
   "source": [
    "## lambda\n"
   ]
  },
  {
   "cell_type": "code",
   "execution_count": 16,
   "id": "7f503c2f",
   "metadata": {},
   "outputs": [],
   "source": [
    "def multiply(number):\n",
    "    return number*3"
   ]
  },
  {
   "cell_type": "code",
   "execution_count": 17,
   "id": "0982e761",
   "metadata": {},
   "outputs": [
    {
     "data": {
      "text/plain": [
       "15"
      ]
     },
     "execution_count": 17,
     "metadata": {},
     "output_type": "execute_result"
    }
   ],
   "source": [
    "multiply(5)"
   ]
  },
  {
   "cell_type": "code",
   "execution_count": 18,
   "id": "f405951a",
   "metadata": {},
   "outputs": [],
   "source": [
    "multiply = lambda number : number * 3"
   ]
  },
  {
   "cell_type": "code",
   "execution_count": 19,
   "id": "39f9c187",
   "metadata": {},
   "outputs": [
    {
     "data": {
      "text/plain": [
       "15"
      ]
     },
     "execution_count": 19,
     "metadata": {},
     "output_type": "execute_result"
    }
   ],
   "source": [
    "multiply(5)"
   ]
  },
  {
   "cell_type": "code",
   "execution_count": 20,
   "id": "b0e56b12",
   "metadata": {},
   "outputs": [],
   "source": [
    "multiply_list = [5,10,15,20]"
   ]
  },
  {
   "cell_type": "code",
   "execution_count": 23,
   "id": "d686d212",
   "metadata": {},
   "outputs": [
    {
     "data": {
      "text/plain": [
       "[15, 30, 45, 60]"
      ]
     },
     "execution_count": 23,
     "metadata": {},
     "output_type": "execute_result"
    }
   ],
   "source": [
    "list(map(lambda number : number * 3, multiply_list))"
   ]
  },
  {
   "cell_type": "code",
   "execution_count": null,
   "id": "d427ba7f",
   "metadata": {},
   "outputs": [],
   "source": []
  }
 ],
 "metadata": {
  "kernelspec": {
   "display_name": "Python 3 (ipykernel)",
   "language": "python",
   "name": "python3"
  },
  "language_info": {
   "codemirror_mode": {
    "name": "ipython",
    "version": 3
   },
   "file_extension": ".py",
   "mimetype": "text/x-python",
   "name": "python",
   "nbconvert_exporter": "python",
   "pygments_lexer": "ipython3",
   "version": "3.9.13"
  }
 },
 "nbformat": 4,
 "nbformat_minor": 5
}
