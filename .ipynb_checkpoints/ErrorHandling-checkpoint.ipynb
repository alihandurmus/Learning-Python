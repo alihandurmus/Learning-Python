{
 "cells": [
  {
   "cell_type": "markdown",
   "id": "bad1a98d",
   "metadata": {},
   "source": [
    "## try , except , finally"
   ]
  },
  {
   "cell_type": "code",
   "execution_count": 4,
   "id": "793a89c0",
   "metadata": {},
   "outputs": [
    {
     "name": "stdout",
     "output_type": "stream",
     "text": [
      "Enter a number: james\n",
      "Enter a number!!!\n",
      "finally\n",
      "Enter a number: lars\n",
      "Enter a number!!!\n",
      "finally\n",
      "Enter a number: 10\n",
      "OK\n",
      "finally\n"
     ]
    }
   ],
   "source": [
    "while True:\n",
    "    try: \n",
    "        my_input = int(input(\"Enter a number: \"))\n",
    "    except:\n",
    "        print(\"Enter a number!!!\")\n",
    "        continue\n",
    "    else:\n",
    "        print(\"OK\")\n",
    "        break\n",
    "    finally:\n",
    "        print(\"finally\")"
   ]
  },
  {
   "cell_type": "code",
   "execution_count": null,
   "id": "32e29724",
   "metadata": {},
   "outputs": [],
   "source": []
  }
 ],
 "metadata": {
  "kernelspec": {
   "display_name": "Python 3 (ipykernel)",
   "language": "python",
   "name": "python3"
  },
  "language_info": {
   "codemirror_mode": {
    "name": "ipython",
    "version": 3
   },
   "file_extension": ".py",
   "mimetype": "text/x-python",
   "name": "python",
   "nbconvert_exporter": "python",
   "pygments_lexer": "ipython3",
   "version": "3.9.13"
  }
 },
 "nbformat": 4,
 "nbformat_minor": 5
}
