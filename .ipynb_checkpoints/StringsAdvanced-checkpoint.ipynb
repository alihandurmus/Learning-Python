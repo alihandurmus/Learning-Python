{
 "cells": [
  {
   "cell_type": "code",
   "execution_count": 3,
   "id": "e0e9d92a",
   "metadata": {},
   "outputs": [],
   "source": [
    "my_string = \"Hello World\""
   ]
  },
  {
   "cell_type": "code",
   "execution_count": 4,
   "id": "828031b1",
   "metadata": {},
   "outputs": [
    {
     "data": {
      "text/plain": [
       "'Hello World'"
      ]
     },
     "execution_count": 4,
     "metadata": {},
     "output_type": "execute_result"
    }
   ],
   "source": [
    "my_string"
   ]
  },
  {
   "cell_type": "markdown",
   "id": "eb0e8aef",
   "metadata": {},
   "source": [
    "##indexing"
   ]
  },
  {
   "cell_type": "code",
   "execution_count": 5,
   "id": "b4150b5b",
   "metadata": {},
   "outputs": [
    {
     "data": {
      "text/plain": [
       "'H'"
      ]
     },
     "execution_count": 5,
     "metadata": {},
     "output_type": "execute_result"
    }
   ],
   "source": [
    "my_string[0]"
   ]
  },
  {
   "cell_type": "code",
   "execution_count": 6,
   "id": "3368e4a7",
   "metadata": {},
   "outputs": [
    {
     "data": {
      "text/plain": [
       "'e'"
      ]
     },
     "execution_count": 6,
     "metadata": {},
     "output_type": "execute_result"
    }
   ],
   "source": [
    "my_string[1]"
   ]
  },
  {
   "cell_type": "code",
   "execution_count": 7,
   "id": "2bcd8ead",
   "metadata": {},
   "outputs": [
    {
     "data": {
      "text/plain": [
       "'d'"
      ]
     },
     "execution_count": 7,
     "metadata": {},
     "output_type": "execute_result"
    }
   ],
   "source": [
    "my_string[-1]"
   ]
  },
  {
   "cell_type": "markdown",
   "id": "567f8d5c",
   "metadata": {},
   "source": [
    "##slicing"
   ]
  },
  {
   "cell_type": "code",
   "execution_count": 8,
   "id": "67c60a09",
   "metadata": {},
   "outputs": [
    {
     "data": {
      "text/plain": [
       "'ll'"
      ]
     },
     "execution_count": 8,
     "metadata": {},
     "output_type": "execute_result"
    }
   ],
   "source": [
    "my_string[2:4]"
   ]
  },
  {
   "cell_type": "code",
   "execution_count": 9,
   "id": "08904b4a",
   "metadata": {},
   "outputs": [
    {
     "data": {
      "text/plain": [
       "'llo World'"
      ]
     },
     "execution_count": 9,
     "metadata": {},
     "output_type": "execute_result"
    }
   ],
   "source": [
    "my_string[2:]"
   ]
  },
  {
   "cell_type": "code",
   "execution_count": 10,
   "id": "a43bb3e9",
   "metadata": {},
   "outputs": [
    {
     "data": {
      "text/plain": [
       "'Hell'"
      ]
     },
     "execution_count": 10,
     "metadata": {},
     "output_type": "execute_result"
    }
   ],
   "source": [
    "my_string[:4]"
   ]
  },
  {
   "cell_type": "markdown",
   "id": "dc059bf2",
   "metadata": {},
   "source": [
    "##step size"
   ]
  },
  {
   "cell_type": "code",
   "execution_count": 11,
   "id": "edd29b43",
   "metadata": {},
   "outputs": [
    {
     "data": {
      "text/plain": [
       "'HloWrd'"
      ]
     },
     "execution_count": 11,
     "metadata": {},
     "output_type": "execute_result"
    }
   ],
   "source": [
    "my_string[::2]"
   ]
  },
  {
   "cell_type": "markdown",
   "id": "ea8d6200",
   "metadata": {},
   "source": [
    "2 şer 2 şer giderek yazdırıyor harfleri"
   ]
  },
  {
   "cell_type": "code",
   "execution_count": 12,
   "id": "9c3fbeea",
   "metadata": {},
   "outputs": [],
   "source": [
    "my_string = \"1234567890\""
   ]
  },
  {
   "cell_type": "code",
   "execution_count": 13,
   "id": "8dbebfb4",
   "metadata": {},
   "outputs": [
    {
     "data": {
      "text/plain": [
       "'13579'"
      ]
     },
     "execution_count": 13,
     "metadata": {},
     "output_type": "execute_result"
    }
   ],
   "source": [
    "my_string[::2]"
   ]
  },
  {
   "cell_type": "code",
   "execution_count": 14,
   "id": "6cf92def",
   "metadata": {},
   "outputs": [
    {
     "data": {
      "text/plain": [
       "'0987654321'"
      ]
     },
     "execution_count": 14,
     "metadata": {},
     "output_type": "execute_result"
    }
   ],
   "source": [
    "my_string[::-1]"
   ]
  },
  {
   "cell_type": "markdown",
   "id": "5eab9597",
   "metadata": {},
   "source": [
    "##string methods"
   ]
  },
  {
   "cell_type": "code",
   "execution_count": 15,
   "id": "99218387",
   "metadata": {},
   "outputs": [
    {
     "data": {
      "text/plain": [
       "'1234567890'"
      ]
     },
     "execution_count": 15,
     "metadata": {},
     "output_type": "execute_result"
    }
   ],
   "source": [
    "my_string.capitalize()"
   ]
  },
  {
   "cell_type": "code",
   "execution_count": 16,
   "id": "ef765202",
   "metadata": {},
   "outputs": [],
   "source": [
    "my_name = \"alihan\""
   ]
  },
  {
   "cell_type": "code",
   "execution_count": 17,
   "id": "21850b60",
   "metadata": {},
   "outputs": [
    {
     "data": {
      "text/plain": [
       "'Alihan'"
      ]
     },
     "execution_count": 17,
     "metadata": {},
     "output_type": "execute_result"
    }
   ],
   "source": [
    "my_name.capitalize()"
   ]
  },
  {
   "cell_type": "code",
   "execution_count": 18,
   "id": "51fc1da4",
   "metadata": {},
   "outputs": [],
   "source": [
    "my_name = \"Alihan Durmuş\""
   ]
  },
  {
   "cell_type": "code",
   "execution_count": 19,
   "id": "1eeb1706",
   "metadata": {},
   "outputs": [
    {
     "data": {
      "text/plain": [
       "['Alihan', 'Durmuş']"
      ]
     },
     "execution_count": 19,
     "metadata": {},
     "output_type": "execute_result"
    }
   ],
   "source": [
    "my_name.split()"
   ]
  },
  {
   "cell_type": "code",
   "execution_count": 20,
   "id": "6f45aa08",
   "metadata": {},
   "outputs": [
    {
     "data": {
      "text/plain": [
       "'ALIHAN DURMUŞ'"
      ]
     },
     "execution_count": 20,
     "metadata": {},
     "output_type": "execute_result"
    }
   ],
   "source": [
    "my_name.upper()"
   ]
  },
  {
   "cell_type": "markdown",
   "id": "f6af38a4",
   "metadata": {},
   "source": [
    "##python docs tan strings methodlara bakabilirsin"
   ]
  },
  {
   "cell_type": "code",
   "execution_count": 21,
   "id": "509be184",
   "metadata": {},
   "outputs": [
    {
     "data": {
      "text/plain": [
       "'jamesjamesjamesjamesjamesjamesjamesjamesjamesjames'"
      ]
     },
     "execution_count": 21,
     "metadata": {},
     "output_type": "execute_result"
    }
   ],
   "source": [
    "\"james\" * 10\n"
   ]
  },
  {
   "cell_type": "code",
   "execution_count": 22,
   "id": "9cfd2ede",
   "metadata": {},
   "outputs": [
    {
     "data": {
      "text/plain": [
       "'james5'"
      ]
     },
     "execution_count": 22,
     "metadata": {},
     "output_type": "execute_result"
    }
   ],
   "source": [
    "\"james\" + \"5\""
   ]
  },
  {
   "cell_type": "code",
   "execution_count": 23,
   "id": "4df63e61",
   "metadata": {},
   "outputs": [],
   "source": [
    "my_name = \"Alihan\""
   ]
  },
  {
   "cell_type": "code",
   "execution_count": 26,
   "id": "746a5116",
   "metadata": {},
   "outputs": [],
   "source": [
    "my_surname = \" Durmuş\""
   ]
  },
  {
   "cell_type": "code",
   "execution_count": 27,
   "id": "d06c48bd",
   "metadata": {},
   "outputs": [
    {
     "data": {
      "text/plain": [
       "'Alihan Durmuş'"
      ]
     },
     "execution_count": 27,
     "metadata": {},
     "output_type": "execute_result"
    }
   ],
   "source": [
    "my_name+ my_surname"
   ]
  },
  {
   "cell_type": "code",
   "execution_count": null,
   "id": "33bea75d",
   "metadata": {},
   "outputs": [],
   "source": []
  }
 ],
 "metadata": {
  "kernelspec": {
   "display_name": "Python 3 (ipykernel)",
   "language": "python",
   "name": "python3"
  },
  "language_info": {
   "codemirror_mode": {
    "name": "ipython",
    "version": 3
   },
   "file_extension": ".py",
   "mimetype": "text/x-python",
   "name": "python",
   "nbconvert_exporter": "python",
   "pygments_lexer": "ipython3",
   "version": "3.9.13"
  }
 },
 "nbformat": 4,
 "nbformat_minor": 5
}
