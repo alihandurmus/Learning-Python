{
 "cells": [
  {
   "cell_type": "code",
   "execution_count": 1,
   "id": "951de213",
   "metadata": {},
   "outputs": [],
   "source": [
    "my_string = \"Alihan\""
   ]
  },
  {
   "cell_type": "code",
   "execution_count": 2,
   "id": "04f42adf",
   "metadata": {},
   "outputs": [
    {
     "data": {
      "text/plain": [
       "'ALIHAN'"
      ]
     },
     "execution_count": 2,
     "metadata": {},
     "output_type": "execute_result"
    }
   ],
   "source": [
    "my_string.upper()"
   ]
  },
  {
   "cell_type": "code",
   "execution_count": 3,
   "id": "3aeac6c3",
   "metadata": {},
   "outputs": [],
   "source": [
    "my_string_upper = my_string.upper()"
   ]
  },
  {
   "cell_type": "code",
   "execution_count": 4,
   "id": "1c6ef04e",
   "metadata": {},
   "outputs": [
    {
     "data": {
      "text/plain": [
       "'ALIHAN'"
      ]
     },
     "execution_count": 4,
     "metadata": {},
     "output_type": "execute_result"
    }
   ],
   "source": [
    "my_string_upper"
   ]
  },
  {
   "cell_type": "code",
   "execution_count": 5,
   "id": "6937c217",
   "metadata": {},
   "outputs": [
    {
     "name": "stdout",
     "output_type": "stream",
     "text": [
      "Help on built-in function split:\n",
      "\n",
      "split(sep=None, maxsplit=-1) method of builtins.str instance\n",
      "    Return a list of the words in the string, using sep as the delimiter string.\n",
      "    \n",
      "    sep\n",
      "      The delimiter according which to split the string.\n",
      "      None (the default value) means split according to any whitespace,\n",
      "      and discard empty strings from the result.\n",
      "    maxsplit\n",
      "      Maximum number of splits to do.\n",
      "      -1 (the default value) means no limit.\n",
      "\n"
     ]
    }
   ],
   "source": [
    "help(my_string.split)"
   ]
  },
  {
   "cell_type": "code",
   "execution_count": 6,
   "id": "cf784af6",
   "metadata": {},
   "outputs": [],
   "source": [
    "def hello_world():\n",
    "    print(\"hello\")\n",
    "    print(\"world\")\n",
    "    "
   ]
  },
  {
   "cell_type": "code",
   "execution_count": 7,
   "id": "714ed92f",
   "metadata": {},
   "outputs": [
    {
     "ename": "NameError",
     "evalue": "name 'hellp_world' is not defined",
     "output_type": "error",
     "traceback": [
      "\u001b[1;31m---------------------------------------------------------------------------\u001b[0m",
      "\u001b[1;31mNameError\u001b[0m                                 Traceback (most recent call last)",
      "\u001b[1;32m~\\AppData\\Local\\Temp\\ipykernel_912\\1792227214.py\u001b[0m in \u001b[0;36m<module>\u001b[1;34m\u001b[0m\n\u001b[1;32m----> 1\u001b[1;33m \u001b[0mhellp_world\u001b[0m\u001b[1;33m(\u001b[0m\u001b[1;33m)\u001b[0m\u001b[1;33m\u001b[0m\u001b[1;33m\u001b[0m\u001b[0m\n\u001b[0m",
      "\u001b[1;31mNameError\u001b[0m: name 'hellp_world' is not defined"
     ]
    }
   ],
   "source": [
    "hellp_world()"
   ]
  },
  {
   "cell_type": "code",
   "execution_count": 8,
   "id": "45073681",
   "metadata": {},
   "outputs": [
    {
     "name": "stdout",
     "output_type": "stream",
     "text": [
      "hello\n",
      "world\n"
     ]
    }
   ],
   "source": [
    "hello_world()"
   ]
  },
  {
   "cell_type": "code",
   "execution_count": 9,
   "id": "ed3b8716",
   "metadata": {},
   "outputs": [],
   "source": [
    "def hello_programing(name=\"Python\"):\n",
    "    print(\"Hello\")\n",
    "    print(name)"
   ]
  },
  {
   "cell_type": "code",
   "execution_count": 10,
   "id": "76137c39",
   "metadata": {},
   "outputs": [
    {
     "name": "stdout",
     "output_type": "stream",
     "text": [
      "Hello\n",
      "Python\n"
     ]
    }
   ],
   "source": [
    "hello_programing()"
   ]
  },
  {
   "cell_type": "code",
   "execution_count": 11,
   "id": "3ef5ea7b",
   "metadata": {},
   "outputs": [
    {
     "name": "stdout",
     "output_type": "stream",
     "text": [
      "Hello\n",
      "Java\n"
     ]
    }
   ],
   "source": [
    "hello_programing(\"Java\")"
   ]
  },
  {
   "cell_type": "markdown",
   "id": "b3df0181",
   "metadata": {},
   "source": [
    "## arbitrary arguments & keyword arguments"
   ]
  },
  {
   "cell_type": "code",
   "execution_count": 12,
   "id": "8f3bac30",
   "metadata": {},
   "outputs": [],
   "source": [
    "def summination(*args):\n",
    "    return sum(args)"
   ]
  },
  {
   "cell_type": "code",
   "execution_count": 13,
   "id": "8cfd6b85",
   "metadata": {},
   "outputs": [
    {
     "data": {
      "text/plain": [
       "6"
      ]
     },
     "execution_count": 13,
     "metadata": {},
     "output_type": "execute_result"
    }
   ],
   "source": [
    "summination(1,2,3)"
   ]
  },
  {
   "cell_type": "code",
   "execution_count": 14,
   "id": "c817c15a",
   "metadata": {},
   "outputs": [],
   "source": [
    "def my_func(*args):\n",
    "    print(args)"
   ]
  },
  {
   "cell_type": "code",
   "execution_count": 15,
   "id": "b43e064d",
   "metadata": {},
   "outputs": [
    {
     "name": "stdout",
     "output_type": "stream",
     "text": [
      "(1, 2, 3)\n"
     ]
    }
   ],
   "source": [
    "my_func(1,2,3)"
   ]
  },
  {
   "cell_type": "code",
   "execution_count": 16,
   "id": "c622a3e6",
   "metadata": {},
   "outputs": [],
   "source": [
    "def my_func(*ali):\n",
    "    print(ali)"
   ]
  },
  {
   "cell_type": "code",
   "execution_count": 17,
   "id": "5ee5ba95",
   "metadata": {},
   "outputs": [
    {
     "name": "stdout",
     "output_type": "stream",
     "text": [
      "(1, 2, 3)\n"
     ]
    }
   ],
   "source": [
    "my_func(1,2,3)"
   ]
  },
  {
   "cell_type": "code",
   "execution_count": 18,
   "id": "dd4b7b6f",
   "metadata": {},
   "outputs": [],
   "source": [
    "def example_func(**kwargs):\n",
    "    print(kwargs)"
   ]
  },
  {
   "cell_type": "code",
   "execution_count": 19,
   "id": "15823348",
   "metadata": {},
   "outputs": [
    {
     "name": "stdout",
     "output_type": "stream",
     "text": [
      "{'run': 10, 'swim': 20, 'walk': 5}\n"
     ]
    }
   ],
   "source": [
    "example_func(run=10,swim=20,walk=5)"
   ]
  },
  {
   "cell_type": "code",
   "execution_count": 20,
   "id": "240ef9fb",
   "metadata": {},
   "outputs": [],
   "source": [
    "def keyword_func(**kwargs):\n",
    "    if \"Metallica\" in kwargs:\n",
    "        print(\"Heavy Metall!!\")\n",
    "    else:\n",
    "        print(\"Rock is dead!\")"
   ]
  },
  {
   "cell_type": "code",
   "execution_count": 22,
   "id": "1713ce93",
   "metadata": {},
   "outputs": [
    {
     "name": "stdout",
     "output_type": "stream",
     "text": [
      "Heavy Metall!!\n"
     ]
    }
   ],
   "source": [
    "keyword_func(Metallica=10,Madonna=5)"
   ]
  },
  {
   "cell_type": "code",
   "execution_count": 23,
   "id": "7d5d6b3b",
   "metadata": {},
   "outputs": [
    {
     "name": "stdout",
     "output_type": "stream",
     "text": [
      "Rock is dead!\n"
     ]
    }
   ],
   "source": [
    "keyword_func(Madonna=5)"
   ]
  },
  {
   "cell_type": "code",
   "execution_count": null,
   "id": "476bb0f0",
   "metadata": {},
   "outputs": [],
   "source": []
  }
 ],
 "metadata": {
  "kernelspec": {
   "display_name": "Python 3 (ipykernel)",
   "language": "python",
   "name": "python3"
  },
  "language_info": {
   "codemirror_mode": {
    "name": "ipython",
    "version": 3
   },
   "file_extension": ".py",
   "mimetype": "text/x-python",
   "name": "python",
   "nbconvert_exporter": "python",
   "pygments_lexer": "ipython3",
   "version": "3.9.13"
  }
 },
 "nbformat": 4,
 "nbformat_minor": 5
}
